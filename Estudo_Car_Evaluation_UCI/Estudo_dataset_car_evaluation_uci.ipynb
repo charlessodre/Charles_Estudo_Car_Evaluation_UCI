{
 "cells": [
  {
   "cell_type": "markdown",
   "metadata": {},
   "source": [
    "# Introdução\n",
    "\n",
    "<h3> ** O principal objetivo deste notebook é praticar o uso do python para análise de dados e uso de alguns modelos de classificação do scikit-learn. ** </h3>\n",
    "\n",
    "\n",
    "- O dataset que vamos utilizar para o nosso estudo será o dataset \"Car Evaluation Database\" da UCI. \n",
    "    Ele contém informações sobre a avaliação de carros. <br>\n",
    "    O dataset contém 6 atributos e 1.728 instâncias (linhas). <br>\n",
    "    Este dataset foi retirado do site da UCI.  <br>\n",
    "\n",
    "    Fonte dos dados: https://archive.ics.uci.edu/ml/datasets/Car+Evaluation <br>\n",
    "\n",
    "\n",
    "\n",
    "<h4> Abaixo estão as descrições dos atributos do Dataset: </h4>\n",
    "    \n",
    "- BUYING: Preço de Compra\n",
    "- MAINT: Preço de Manutenção\n",
    "- DOORS: Número de Portas\n",
    "- PERSONS: Quantidade de pessoas para trasporte\n",
    "- LUG_BOOT: Tamanho da Mala\n",
    "- SAFETY: Segurança estimada do carro\n",
    "- CLASS: Classificação do carro\n",
    "    "
   ]
  },
  {
   "cell_type": "markdown",
   "metadata": {},
   "source": [
    "# Iniciando a Importação e Análise Exploratória de Dados."
   ]
  },
  {
   "cell_type": "code",
   "execution_count": 1,
   "metadata": {},
   "outputs": [
    {
     "data": {
      "text/html": [
       "<script type=\"text/javascript\">window.PlotlyConfig = {MathJaxConfig: 'local'};</script><script type=\"text/javascript\">if (window.MathJax) {MathJax.Hub.Config({SVG: {font: \"STIX-Web\"}});}</script><script>requirejs.config({paths: { 'plotly': ['https://cdn.plot.ly/plotly-latest.min']},});if(!window._Plotly) {require(['plotly'],function(plotly) {window._Plotly=plotly;});}</script>"
      ],
      "text/vnd.plotly.v1+html": [
       "<script type=\"text/javascript\">window.PlotlyConfig = {MathJaxConfig: 'local'};</script><script type=\"text/javascript\">if (window.MathJax) {MathJax.Hub.Config({SVG: {font: \"STIX-Web\"}});}</script><script>requirejs.config({paths: { 'plotly': ['https://cdn.plot.ly/plotly-latest.min']},});if(!window._Plotly) {require(['plotly'],function(plotly) {window._Plotly=plotly;});}</script>"
      ]
     },
     "metadata": {},
     "output_type": "display_data"
    }
   ],
   "source": [
    "# Carregando as bibliotecas iniciais\n",
    "import pandas as pd \n",
    "import numpy as np\n",
    "import matplotlib.pyplot as plt\n",
    "import seaborn as sns \n",
    "import plotly.offline as py\n",
    "py.init_notebook_mode(connected=True)\n",
    "import plotly.graph_objs as go\n",
    "import plotly.tools as tools\n",
    "from datetime import datetime"
   ]
  },
  {
   "cell_type": "code",
   "execution_count": 2,
   "metadata": {},
   "outputs": [
    {
     "data": {
      "text/plain": [
       "(1728, 7)"
      ]
     },
     "execution_count": 2,
     "metadata": {},
     "output_type": "execute_result"
    }
   ],
   "source": [
    "# Importando o DataSet e definindo as colunas do dataframe.\n",
    "df_car = pd.read_csv('./base_dados/car.csv', names = ['BUYING', 'MAINT', 'DOORS', 'PERSONS' , 'LUG_BOOT', 'SAFETY', 'CLASS'])\n",
    "\n",
    "# Visualizando as dimensões do dataset original\n",
    "df_car.shape"
   ]
  },
  {
   "cell_type": "code",
   "execution_count": 3,
   "metadata": {},
   "outputs": [
    {
     "data": {
      "text/plain": [
       "BUYING      4\n",
       "MAINT       4\n",
       "DOORS       4\n",
       "PERSONS     3\n",
       "LUG_BOOT    3\n",
       "SAFETY      3\n",
       "CLASS       4\n",
       "dtype: int64"
      ]
     },
     "execution_count": 3,
     "metadata": {},
     "output_type": "execute_result"
    }
   ],
   "source": [
    "# Verificando os valores únicos\n",
    "df_car.nunique()"
   ]
  },
  {
   "cell_type": "code",
   "execution_count": 4,
   "metadata": {},
   "outputs": [
    {
     "data": {
      "text/html": [
       "<div>\n",
       "<style scoped>\n",
       "    .dataframe tbody tr th:only-of-type {\n",
       "        vertical-align: middle;\n",
       "    }\n",
       "\n",
       "    .dataframe tbody tr th {\n",
       "        vertical-align: top;\n",
       "    }\n",
       "\n",
       "    .dataframe thead th {\n",
       "        text-align: right;\n",
       "    }\n",
       "</style>\n",
       "<table border=\"1\" class=\"dataframe\">\n",
       "  <thead>\n",
       "    <tr style=\"text-align: right;\">\n",
       "      <th></th>\n",
       "      <th>BUYING</th>\n",
       "      <th>MAINT</th>\n",
       "      <th>DOORS</th>\n",
       "      <th>PERSONS</th>\n",
       "      <th>LUG_BOOT</th>\n",
       "      <th>SAFETY</th>\n",
       "      <th>CLASS</th>\n",
       "    </tr>\n",
       "  </thead>\n",
       "  <tbody>\n",
       "    <tr>\n",
       "      <th>0</th>\n",
       "      <td>vhigh</td>\n",
       "      <td>vhigh</td>\n",
       "      <td>2</td>\n",
       "      <td>2</td>\n",
       "      <td>small</td>\n",
       "      <td>low</td>\n",
       "      <td>unacc</td>\n",
       "    </tr>\n",
       "    <tr>\n",
       "      <th>1</th>\n",
       "      <td>vhigh</td>\n",
       "      <td>vhigh</td>\n",
       "      <td>2</td>\n",
       "      <td>2</td>\n",
       "      <td>small</td>\n",
       "      <td>med</td>\n",
       "      <td>unacc</td>\n",
       "    </tr>\n",
       "    <tr>\n",
       "      <th>2</th>\n",
       "      <td>vhigh</td>\n",
       "      <td>vhigh</td>\n",
       "      <td>2</td>\n",
       "      <td>2</td>\n",
       "      <td>small</td>\n",
       "      <td>high</td>\n",
       "      <td>unacc</td>\n",
       "    </tr>\n",
       "    <tr>\n",
       "      <th>3</th>\n",
       "      <td>vhigh</td>\n",
       "      <td>vhigh</td>\n",
       "      <td>2</td>\n",
       "      <td>2</td>\n",
       "      <td>med</td>\n",
       "      <td>low</td>\n",
       "      <td>unacc</td>\n",
       "    </tr>\n",
       "    <tr>\n",
       "      <th>4</th>\n",
       "      <td>vhigh</td>\n",
       "      <td>vhigh</td>\n",
       "      <td>2</td>\n",
       "      <td>2</td>\n",
       "      <td>med</td>\n",
       "      <td>med</td>\n",
       "      <td>unacc</td>\n",
       "    </tr>\n",
       "  </tbody>\n",
       "</table>\n",
       "</div>"
      ],
      "text/plain": [
       "  BUYING  MAINT DOORS PERSONS LUG_BOOT SAFETY  CLASS\n",
       "0  vhigh  vhigh     2       2    small    low  unacc\n",
       "1  vhigh  vhigh     2       2    small    med  unacc\n",
       "2  vhigh  vhigh     2       2    small   high  unacc\n",
       "3  vhigh  vhigh     2       2      med    low  unacc\n",
       "4  vhigh  vhigh     2       2      med    med  unacc"
      ]
     },
     "execution_count": 4,
     "metadata": {},
     "output_type": "execute_result"
    }
   ],
   "source": [
    "# Olhando as primeiras linhas \n",
    "df_car.head()"
   ]
  },
  {
   "cell_type": "code",
   "execution_count": 5,
   "metadata": {},
   "outputs": [
    {
     "name": "stdout",
     "output_type": "stream",
     "text": [
      "<class 'pandas.core.frame.DataFrame'>\n",
      "RangeIndex: 1728 entries, 0 to 1727\n",
      "Data columns (total 7 columns):\n",
      "BUYING      1728 non-null object\n",
      "MAINT       1728 non-null object\n",
      "DOORS       1728 non-null object\n",
      "PERSONS     1728 non-null object\n",
      "LUG_BOOT    1728 non-null object\n",
      "SAFETY      1728 non-null object\n",
      "CLASS       1728 non-null object\n",
      "dtypes: object(7)\n",
      "memory usage: 94.6+ KB\n"
     ]
    }
   ],
   "source": [
    "# Olhando os tipos e formato dos dados\n",
    "df_car.info()"
   ]
  },
  {
   "cell_type": "code",
   "execution_count": 6,
   "metadata": {},
   "outputs": [],
   "source": [
    "# Convertendo os tipos de algumas colunas.\n",
    "df_car['BUYING'] = df_car['BUYING'].astype('category')\n",
    "df_car['MAINT'] = df_car['MAINT'].astype('category')\n",
    "df_car['DOORS'] = df_car['DOORS'].astype('category')\n",
    "df_car['PERSONS'] = df_car['PERSONS'].astype('category')\n",
    "df_car['LUG_BOOT'] = df_car['LUG_BOOT'].astype('category')\n",
    "df_car['SAFETY'] = df_car['SAFETY'].astype('category')\n",
    "df_car['CLASS'] = df_car['CLASS'].astype('category')"
   ]
  },
  {
   "cell_type": "code",
   "execution_count": 7,
   "metadata": {},
   "outputs": [
    {
     "name": "stdout",
     "output_type": "stream",
     "text": [
      "Valores Nulos\n",
      "\n",
      "BUYING      0\n",
      "MAINT       0\n",
      "DOORS       0\n",
      "PERSONS     0\n",
      "LUG_BOOT    0\n",
      "SAFETY      0\n",
      "CLASS       0\n",
      "dtype: int64\n",
      "\n",
      "Valores N/A \n",
      "\n",
      "BUYING      0\n",
      "MAINT       0\n",
      "DOORS       0\n",
      "PERSONS     0\n",
      "LUG_BOOT    0\n",
      "SAFETY      0\n",
      "CLASS       0\n",
      "dtype: int64\n"
     ]
    }
   ],
   "source": [
    "# Verificando valores nulos e N/A (não disponível)\n",
    "print('Valores Nulos\\n')\n",
    "print(df_car.isnull().sum())\n",
    "print('\\nValores N/A \\n')\n",
    "print(df_car.isna().sum())"
   ]
  },
  {
   "cell_type": "code",
   "execution_count": 8,
   "metadata": {},
   "outputs": [
    {
     "data": {
      "text/html": [
       "<div>\n",
       "<style scoped>\n",
       "    .dataframe tbody tr th:only-of-type {\n",
       "        vertical-align: middle;\n",
       "    }\n",
       "\n",
       "    .dataframe tbody tr th {\n",
       "        vertical-align: top;\n",
       "    }\n",
       "\n",
       "    .dataframe thead th {\n",
       "        text-align: right;\n",
       "    }\n",
       "</style>\n",
       "<table border=\"1\" class=\"dataframe\">\n",
       "  <thead>\n",
       "    <tr style=\"text-align: right;\">\n",
       "      <th></th>\n",
       "      <th>count</th>\n",
       "      <th>unique</th>\n",
       "      <th>top</th>\n",
       "      <th>freq</th>\n",
       "    </tr>\n",
       "  </thead>\n",
       "  <tbody>\n",
       "    <tr>\n",
       "      <th>BUYING</th>\n",
       "      <td>1728</td>\n",
       "      <td>4</td>\n",
       "      <td>vhigh</td>\n",
       "      <td>432</td>\n",
       "    </tr>\n",
       "    <tr>\n",
       "      <th>MAINT</th>\n",
       "      <td>1728</td>\n",
       "      <td>4</td>\n",
       "      <td>vhigh</td>\n",
       "      <td>432</td>\n",
       "    </tr>\n",
       "    <tr>\n",
       "      <th>DOORS</th>\n",
       "      <td>1728</td>\n",
       "      <td>4</td>\n",
       "      <td>5more</td>\n",
       "      <td>432</td>\n",
       "    </tr>\n",
       "    <tr>\n",
       "      <th>PERSONS</th>\n",
       "      <td>1728</td>\n",
       "      <td>3</td>\n",
       "      <td>more</td>\n",
       "      <td>576</td>\n",
       "    </tr>\n",
       "    <tr>\n",
       "      <th>LUG_BOOT</th>\n",
       "      <td>1728</td>\n",
       "      <td>3</td>\n",
       "      <td>small</td>\n",
       "      <td>576</td>\n",
       "    </tr>\n",
       "    <tr>\n",
       "      <th>SAFETY</th>\n",
       "      <td>1728</td>\n",
       "      <td>3</td>\n",
       "      <td>med</td>\n",
       "      <td>576</td>\n",
       "    </tr>\n",
       "    <tr>\n",
       "      <th>CLASS</th>\n",
       "      <td>1728</td>\n",
       "      <td>4</td>\n",
       "      <td>unacc</td>\n",
       "      <td>1210</td>\n",
       "    </tr>\n",
       "  </tbody>\n",
       "</table>\n",
       "</div>"
      ],
      "text/plain": [
       "         count unique    top  freq\n",
       "BUYING    1728      4  vhigh   432\n",
       "MAINT     1728      4  vhigh   432\n",
       "DOORS     1728      4  5more   432\n",
       "PERSONS   1728      3   more   576\n",
       "LUG_BOOT  1728      3  small   576\n",
       "SAFETY    1728      3    med   576\n",
       "CLASS     1728      4  unacc  1210"
      ]
     },
     "execution_count": 8,
     "metadata": {},
     "output_type": "execute_result"
    }
   ],
   "source": [
    "# Observando algumas medidas\n",
    "df_car.describe().transpose()"
   ]
  },
  {
   "cell_type": "code",
   "execution_count": null,
   "metadata": {},
   "outputs": [],
   "source": []
  },
  {
   "cell_type": "code",
   "execution_count": 9,
   "metadata": {},
   "outputs": [
    {
     "data": {
      "application/vnd.plotly.v1+json": {
       "config": {
        "linkText": "Export to plot.ly",
        "plotlyServerURL": "https://plot.ly",
        "showLink": false
       },
       "data": [
        {
         "marker": {
          "color": [
           "dodgerblue",
           "indianred",
           "limegreen",
           "orange"
          ]
         },
         "text": [
          1210,
          384,
          69,
          65
         ],
         "textposition": "auto",
         "type": "bar",
         "uid": "2f1006a2-b585-4b92-8425-c15405155194",
         "x": [
          "unacc",
          "acc",
          "vgood",
          "good"
         ],
         "y": [
          1210,
          384,
          69,
          65
         ]
        }
       ],
       "layout": {
        "autosize": true,
        "title": {
         "text": "Distribuição da variável Target (Classe)"
        },
        "xaxis": {
         "autorange": true,
         "range": [
          -0.5,
          3.5
         ],
         "tickmode": "linear",
         "title": {
          "text": "Classe"
         },
         "type": "category"
        },
        "yaxis": {
         "autorange": true,
         "range": [
          0,
          1273.6842105263158
         ],
         "title": {
          "text": "Qtd"
         },
         "type": "linear"
        }
       }
      },
      "image/png": "[encoded data removed]",
      "text/html": [
       "<div id=\"14aeb49c-d6be-4276-a9e9-cfca3c21ba9e\" style=\"height: 525px; width: 100%;\" class=\"plotly-graph-div\"></div><script type=\"text/javascript\">require([\"plotly\"], function(Plotly) { window.PLOTLYENV=window.PLOTLYENV || {};window.PLOTLYENV.BASE_URL=\"https://plot.ly\";\n",
       "if (document.getElementById(\"14aeb49c-d6be-4276-a9e9-cfca3c21ba9e\")) {\n",
       "    Plotly.newPlot(\"14aeb49c-d6be-4276-a9e9-cfca3c21ba9e\", [{\"marker\": {\"color\": [\"dodgerblue\", \"indianred\", \"limegreen\", \"orange\"]}, \"text\": [1210.0, 384.0, 69.0, 65.0], \"textposition\": \"auto\", \"x\": [\"unacc\", \"acc\", \"vgood\", \"good\"], \"y\": [1210, 384, 69, 65], \"type\": \"bar\", \"uid\": \"2f1006a2-b585-4b92-8425-c15405155194\"}], {\"title\": {\"text\": \"Distribui\\u00e7\\u00e3o da vari\\u00e1vel Target (Classe)\"}, \"xaxis\": {\"tickmode\": \"linear\", \"title\": {\"text\": \"Classe\"}}, \"yaxis\": {\"title\": {\"text\": \"Qtd\"}}}, {\"showLink\": false, \"linkText\": \"Export to plot.ly\", \"plotlyServerURL\": \"https://plot.ly\"}); \n",
       "}\n",
       "});</script><script type=\"text/javascript\">window.addEventListener(\"resize\", function(){if (document.getElementById(\"14aeb49c-d6be-4276-a9e9-cfca3c21ba9e\")) {window._Plotly.Plots.resize(document.getElementById(\"14aeb49c-d6be-4276-a9e9-cfca3c21ba9e\"));};})</script>"
      ],
      "text/vnd.plotly.v1+html": [
       "<div id=\"14aeb49c-d6be-4276-a9e9-cfca3c21ba9e\" style=\"height: 525px; width: 100%;\" class=\"plotly-graph-div\"></div><script type=\"text/javascript\">require([\"plotly\"], function(Plotly) { window.PLOTLYENV=window.PLOTLYENV || {};window.PLOTLYENV.BASE_URL=\"https://plot.ly\";\n",
       "if (document.getElementById(\"14aeb49c-d6be-4276-a9e9-cfca3c21ba9e\")) {\n",
       "    Plotly.newPlot(\"14aeb49c-d6be-4276-a9e9-cfca3c21ba9e\", [{\"marker\": {\"color\": [\"dodgerblue\", \"indianred\", \"limegreen\", \"orange\"]}, \"text\": [1210.0, 384.0, 69.0, 65.0], \"textposition\": \"auto\", \"x\": [\"unacc\", \"acc\", \"vgood\", \"good\"], \"y\": [1210, 384, 69, 65], \"type\": \"bar\", \"uid\": \"2f1006a2-b585-4b92-8425-c15405155194\"}], {\"title\": {\"text\": \"Distribui\\u00e7\\u00e3o da vari\\u00e1vel Target (Classe)\"}, \"xaxis\": {\"tickmode\": \"linear\", \"title\": {\"text\": \"Classe\"}}, \"yaxis\": {\"title\": {\"text\": \"Qtd\"}}}, {\"showLink\": false, \"linkText\": \"Export to plot.ly\", \"plotlyServerURL\": \"https://plot.ly\"}); \n",
       "}\n",
       "});</script><script type=\"text/javascript\">window.addEventListener(\"resize\", function(){if (document.getElementById(\"14aeb49c-d6be-4276-a9e9-cfca3c21ba9e\")) {window._Plotly.Plots.resize(document.getElementById(\"14aeb49c-d6be-4276-a9e9-cfca3c21ba9e\"));};})</script>"
      ]
     },
     "metadata": {},
     "output_type": "display_data"
    }
   ],
   "source": [
    "# Distribuição da variável Target\n",
    "\n",
    "label = df_car['CLASS'].unique()\n",
    "dados = df_car['CLASS'].value_counts()\n",
    "\n",
    "trace = go.Bar(\n",
    "            x =label,\n",
    "            y =dados,\n",
    "            textposition = 'auto',\n",
    "            text=dados, \n",
    "            marker=dict(color=['dodgerblue', 'indianred', 'limegreen', 'orange' ]),  \n",
    "            \n",
    "            )\n",
    "\n",
    "data = [trace]\n",
    "layout = go.Layout(yaxis=dict(title='Qtd'),xaxis=dict(title='Classe', tickmode='linear'),title='Distribuição da variável Target (Classe)')\n",
    "fig = go.Figure(data=data, layout=layout, )\n",
    "py.iplot(fig, filename='grouped-bar' )"
   ]
  },
  {
   "cell_type": "code",
   "execution_count": 10,
   "metadata": {},
   "outputs": [],
   "source": [
    "# Comparando os Atributos com o Atributo target CLASS\n",
    "df1 = pd.crosstab(df_car.BUYING, df_car.CLASS) \n",
    "df2 = pd.crosstab(df_car.MAINT, df_car.CLASS) \n",
    "df3 = pd.crosstab(df_car.DOORS, df_car.CLASS) \n",
    "df4 = pd.crosstab(df_car.PERSONS, df_car.CLASS) \n",
    "df5 = pd.crosstab(df_car.LUG_BOOT, df_car.CLASS) "
   ]
  },
  {
   "cell_type": "code",
   "execution_count": 11,
   "metadata": {},
   "outputs": [],
   "source": [
    "from IPython.display import display_html\n",
    "\n",
    "# Define a função para exibir os dataframes lado a lado.\n",
    "def display_daframes(lista_dataframes, nomes=[]):\n",
    "    html_str = ''\n",
    "    if nomes:\n",
    "        html_str += ('<tr>' +  ''.join(f'<td style=\"text-align:center\"><span style=\" font-weight: bold\">{name}</span></td>' for name in nomes) +   '</tr>')\n",
    "    \n",
    "    html_str += ('<tr>' +  ''.join(f'<td style=\"vertical-align:top\"> {df.to_html(index=True)}</td>'    for df in lista_dataframes) +  '</tr>')\n",
    "    html_str = f'<table>{html_str}</table>'\n",
    "    html_str = html_str.replace('table','table style=\"display:inline\"')\n",
    "    \n",
    "    display_html(html_str, raw=True)"
   ]
  },
  {
   "cell_type": "code",
   "execution_count": 12,
   "metadata": {},
   "outputs": [
    {
     "name": "stdout",
     "output_type": "stream",
     "text": [
      "\tCruzameto dos Atributos previsores com o Atributo target CLASS\n"
     ]
    },
    {
     "data": {
      "text/html": [
       "<table style=\"display:inline\"><tr><td style=\"text-align:center\"><span style=\" font-weight: bold\">BUYING x Class</span></td><td style=\"text-align:center\"><span style=\" font-weight: bold\">MAINT x Class</span></td><td style=\"text-align:center\"><span style=\" font-weight: bold\">DOORS x Class</span></td><td style=\"text-align:center\"><span style=\" font-weight: bold\"> PERSONS x Class</span></td><td style=\"text-align:center\"><span style=\" font-weight: bold\">LUG_BOOT x Class</span></td></tr><tr><td style=\"vertical-align:top\"> <table style=\"display:inline\" border=\"1\" class=\"dataframe\">\n",
       "  <thead>\n",
       "    <tr style=\"text-align: right;\">\n",
       "      <th>CLASS</th>\n",
       "      <th>acc</th>\n",
       "      <th>good</th>\n",
       "      <th>unacc</th>\n",
       "      <th>vgood</th>\n",
       "    </tr>\n",
       "    <tr>\n",
       "      <th>BUYING</th>\n",
       "      <th></th>\n",
       "      <th></th>\n",
       "      <th></th>\n",
       "      <th></th>\n",
       "    </tr>\n",
       "  </thead>\n",
       "  <tbody>\n",
       "    <tr>\n",
       "      <th>high</th>\n",
       "      <td>108</td>\n",
       "      <td>0</td>\n",
       "      <td>324</td>\n",
       "      <td>0</td>\n",
       "    </tr>\n",
       "    <tr>\n",
       "      <th>low</th>\n",
       "      <td>89</td>\n",
       "      <td>46</td>\n",
       "      <td>258</td>\n",
       "      <td>39</td>\n",
       "    </tr>\n",
       "    <tr>\n",
       "      <th>med</th>\n",
       "      <td>115</td>\n",
       "      <td>23</td>\n",
       "      <td>268</td>\n",
       "      <td>26</td>\n",
       "    </tr>\n",
       "    <tr>\n",
       "      <th>vhigh</th>\n",
       "      <td>72</td>\n",
       "      <td>0</td>\n",
       "      <td>360</td>\n",
       "      <td>0</td>\n",
       "    </tr>\n",
       "  </tbody>\n",
       "</table style=\"display:inline\"></td><td style=\"vertical-align:top\"> <table style=\"display:inline\" border=\"1\" class=\"dataframe\">\n",
       "  <thead>\n",
       "    <tr style=\"text-align: right;\">\n",
       "      <th>CLASS</th>\n",
       "      <th>acc</th>\n",
       "      <th>good</th>\n",
       "      <th>unacc</th>\n",
       "      <th>vgood</th>\n",
       "    </tr>\n",
       "    <tr>\n",
       "      <th>MAINT</th>\n",
       "      <th></th>\n",
       "      <th></th>\n",
       "      <th></th>\n",
       "      <th></th>\n",
       "    </tr>\n",
       "  </thead>\n",
       "  <tbody>\n",
       "    <tr>\n",
       "      <th>high</th>\n",
       "      <td>105</td>\n",
       "      <td>0</td>\n",
       "      <td>314</td>\n",
       "      <td>13</td>\n",
       "    </tr>\n",
       "    <tr>\n",
       "      <th>low</th>\n",
       "      <td>92</td>\n",
       "      <td>46</td>\n",
       "      <td>268</td>\n",
       "      <td>26</td>\n",
       "    </tr>\n",
       "    <tr>\n",
       "      <th>med</th>\n",
       "      <td>115</td>\n",
       "      <td>23</td>\n",
       "      <td>268</td>\n",
       "      <td>26</td>\n",
       "    </tr>\n",
       "    <tr>\n",
       "      <th>vhigh</th>\n",
       "      <td>72</td>\n",
       "      <td>0</td>\n",
       "      <td>360</td>\n",
       "      <td>0</td>\n",
       "    </tr>\n",
       "  </tbody>\n",
       "</table style=\"display:inline\"></td><td style=\"vertical-align:top\"> <table style=\"display:inline\" border=\"1\" class=\"dataframe\">\n",
       "  <thead>\n",
       "    <tr style=\"text-align: right;\">\n",
       "      <th>CLASS</th>\n",
       "      <th>acc</th>\n",
       "      <th>good</th>\n",
       "      <th>unacc</th>\n",
       "      <th>vgood</th>\n",
       "    </tr>\n",
       "    <tr>\n",
       "      <th>DOORS</th>\n",
       "      <th></th>\n",
       "      <th></th>\n",
       "      <th></th>\n",
       "      <th></th>\n",
       "    </tr>\n",
       "  </thead>\n",
       "  <tbody>\n",
       "    <tr>\n",
       "      <th>2</th>\n",
       "      <td>81</td>\n",
       "      <td>15</td>\n",
       "      <td>326</td>\n",
       "      <td>10</td>\n",
       "    </tr>\n",
       "    <tr>\n",
       "      <th>3</th>\n",
       "      <td>99</td>\n",
       "      <td>18</td>\n",
       "      <td>300</td>\n",
       "      <td>15</td>\n",
       "    </tr>\n",
       "    <tr>\n",
       "      <th>4</th>\n",
       "      <td>102</td>\n",
       "      <td>18</td>\n",
       "      <td>292</td>\n",
       "      <td>20</td>\n",
       "    </tr>\n",
       "    <tr>\n",
       "      <th>5more</th>\n",
       "      <td>102</td>\n",
       "      <td>18</td>\n",
       "      <td>292</td>\n",
       "      <td>20</td>\n",
       "    </tr>\n",
       "  </tbody>\n",
       "</table style=\"display:inline\"></td><td style=\"vertical-align:top\"> <table style=\"display:inline\" border=\"1\" class=\"dataframe\">\n",
       "  <thead>\n",
       "    <tr style=\"text-align: right;\">\n",
       "      <th>CLASS</th>\n",
       "      <th>acc</th>\n",
       "      <th>good</th>\n",
       "      <th>unacc</th>\n",
       "      <th>vgood</th>\n",
       "    </tr>\n",
       "    <tr>\n",
       "      <th>PERSONS</th>\n",
       "      <th></th>\n",
       "      <th></th>\n",
       "      <th></th>\n",
       "      <th></th>\n",
       "    </tr>\n",
       "  </thead>\n",
       "  <tbody>\n",
       "    <tr>\n",
       "      <th>2</th>\n",
       "      <td>0</td>\n",
       "      <td>0</td>\n",
       "      <td>576</td>\n",
       "      <td>0</td>\n",
       "    </tr>\n",
       "    <tr>\n",
       "      <th>4</th>\n",
       "      <td>198</td>\n",
       "      <td>36</td>\n",
       "      <td>312</td>\n",
       "      <td>30</td>\n",
       "    </tr>\n",
       "    <tr>\n",
       "      <th>more</th>\n",
       "      <td>186</td>\n",
       "      <td>33</td>\n",
       "      <td>322</td>\n",
       "      <td>35</td>\n",
       "    </tr>\n",
       "  </tbody>\n",
       "</table style=\"display:inline\"></td><td style=\"vertical-align:top\"> <table style=\"display:inline\" border=\"1\" class=\"dataframe\">\n",
       "  <thead>\n",
       "    <tr style=\"text-align: right;\">\n",
       "      <th>CLASS</th>\n",
       "      <th>acc</th>\n",
       "      <th>good</th>\n",
       "      <th>unacc</th>\n",
       "      <th>vgood</th>\n",
       "    </tr>\n",
       "    <tr>\n",
       "      <th>LUG_BOOT</th>\n",
       "      <th></th>\n",
       "      <th></th>\n",
       "      <th></th>\n",
       "      <th></th>\n",
       "    </tr>\n",
       "  </thead>\n",
       "  <tbody>\n",
       "    <tr>\n",
       "      <th>big</th>\n",
       "      <td>144</td>\n",
       "      <td>24</td>\n",
       "      <td>368</td>\n",
       "      <td>40</td>\n",
       "    </tr>\n",
       "    <tr>\n",
       "      <th>med</th>\n",
       "      <td>135</td>\n",
       "      <td>24</td>\n",
       "      <td>392</td>\n",
       "      <td>25</td>\n",
       "    </tr>\n",
       "    <tr>\n",
       "      <th>small</th>\n",
       "      <td>105</td>\n",
       "      <td>21</td>\n",
       "      <td>450</td>\n",
       "      <td>0</td>\n",
       "    </tr>\n",
       "  </tbody>\n",
       "</table style=\"display:inline\"></td></tr></table style=\"display:inline\">"
      ]
     },
     "metadata": {},
     "output_type": "display_data"
    }
   ],
   "source": [
    "print('\\tCruzameto dos Atributos previsores com o Atributo target CLASS')\n",
    "display_daframes( [df1,df2,df3, df4, df5], nomes=['BUYING x Class', 'MAINT x Class', 'DOORS x Class', ' PERSONS x Class', 'LUG_BOOT x Class'])"
   ]
  },
  {
   "cell_type": "code",
   "execution_count": 13,
   "metadata": {},
   "outputs": [],
   "source": [
    "# Criando um dataframe Transformando os valores categóricos em valores inteiros\n",
    "df_car_corr = pd.DataFrame()\n",
    "df_car_corr['BUYING'] = df_car['BUYING'].cat.codes\n",
    "df_car_corr['MAINT'] = df_car['MAINT'].cat.codes\n",
    "df_car_corr['DOORS'] = df_car['DOORS'].cat.codes\n",
    "df_car_corr['PERSONS'] = df_car['PERSONS'].cat.codes\n",
    "df_car_corr['LUG_BOOT'] = df_car['LUG_BOOT'].cat.codes\n",
    "df_car_corr['SAFETY'] = df_car['SAFETY'].cat.codes\n",
    "df_car_corr['CLASS'] = df_car['CLASS'].cat.codes"
   ]
  },
  {
   "cell_type": "code",
   "execution_count": 14,
   "metadata": {},
   "outputs": [
    {
     "data": {
      "image/png": "[encoded data removed]",
      "text/plain": [
       "<Figure size 576x432 with 9 Axes>"
      ]
     },
     "metadata": {
      "needs_background": "light"
     },
     "output_type": "display_data"
    }
   ],
   "source": [
    "# Distribuição dos atributos dos dataset\n",
    "df_car_corr.hist(figsize=(8,6))\n",
    "plt.tight_layout()\n",
    "plt.show()"
   ]
  },
  {
   "cell_type": "markdown",
   "metadata": {},
   "source": [
    "# Verificando a correlação dos Dados"
   ]
  },
  {
   "cell_type": "code",
   "execution_count": 15,
   "metadata": {},
   "outputs": [
    {
     "data": {
      "image/png": "[encoded data removed]",
      "text/plain": [
       "<Figure size 576x432 with 2 Axes>"
      ]
     },
     "metadata": {
      "needs_background": "light"
     },
     "output_type": "display_data"
    }
   ],
   "source": [
    "# Plota o gráfico de correlação dos dados.\n",
    "plt.figure(figsize=(8,6))\n",
    "ax1 = sns.heatmap(df_car_corr.astype(float).corr(),linewidths=0.1,vmax=1.0, square=True, annot=True, fmt='.4f', annot_kws={\"size\": 9})\n",
    "plt.title('Correlação dos dados\\n')\n",
    "plt.show()"
   ]
  },
  {
   "cell_type": "markdown",
   "metadata": {},
   "source": [
    "# Preparando os dados para criação do Modelo de Previsão"
   ]
  },
  {
   "cell_type": "code",
   "execution_count": 16,
   "metadata": {},
   "outputs": [],
   "source": [
    "# Dividindo os atributos do dataframe \n",
    "\n",
    "# Previsores\n",
    "X = df_car.iloc[:, 0:6].values\n",
    "\n",
    "# Target\n",
    "y = df_car.iloc[:,6].values.astype('str')"
   ]
  },
  {
   "cell_type": "code",
   "execution_count": 17,
   "metadata": {},
   "outputs": [
    {
     "name": "stdout",
     "output_type": "stream",
     "text": [
      "Shape dos dados de X e y\n",
      "(1728, 6)\n",
      "(1728,)\n"
     ]
    }
   ],
   "source": [
    "print('Shape dos dados de X e y')\n",
    "print(X.shape)\n",
    "print(y.shape)"
   ]
  },
  {
   "cell_type": "code",
   "execution_count": 18,
   "metadata": {},
   "outputs": [],
   "source": [
    "# Transforma os valores categóricos em valores inteiros\n",
    "from sklearn.preprocessing import LabelEncoder\n",
    "x_label_encoder = LabelEncoder()\n",
    "y_label_encoder  = LabelEncoder()\n",
    "\n",
    "# Valores de X (previsores). Altera o Shape dos dados de X.\n",
    "X_le = x_label_encoder.fit_transform(X.ravel())\n",
    "\n",
    "# Valores de Y (alvo)\n",
    "y_le = y_label_encoder.fit_transform(y)"
   ]
  },
  {
   "cell_type": "code",
   "execution_count": 19,
   "metadata": {},
   "outputs": [
    {
     "data": {
      "text/plain": [
       "(1728,)"
      ]
     },
     "execution_count": 19,
     "metadata": {},
     "output_type": "execute_result"
    }
   ],
   "source": [
    "y_le.shape"
   ]
  },
  {
   "cell_type": "code",
   "execution_count": 20,
   "metadata": {},
   "outputs": [
    {
     "data": {
      "text/plain": [
       "(10368,)"
      ]
     },
     "execution_count": 20,
     "metadata": {},
     "output_type": "execute_result"
    }
   ],
   "source": [
    "X_le.shape"
   ]
  },
  {
   "cell_type": "code",
   "execution_count": 21,
   "metadata": {},
   "outputs": [
    {
     "data": {
      "text/plain": [
       "(1728, 6)"
      ]
     },
     "execution_count": 21,
     "metadata": {},
     "output_type": "execute_result"
    }
   ],
   "source": [
    "# Alterando o Shape do array pra ficar igual ao original, após a condificação.\n",
    "X_le = X_le.reshape(X.shape)\n",
    "X_le.shape"
   ]
  },
  {
   "cell_type": "code",
   "execution_count": 22,
   "metadata": {},
   "outputs": [],
   "source": [
    "# Gerando vetores binários para cada valor inteiro\n",
    "from sklearn.preprocessing import OneHotEncoder\n",
    "\n",
    "x_oneHot = OneHotEncoder(categories='auto')"
   ]
  },
  {
   "cell_type": "code",
   "execution_count": 23,
   "metadata": {},
   "outputs": [
    {
     "data": {
      "text/plain": [
       "array([[ 0.,  0.,  0., ...,  0.,  1.,  0.],\n",
       "       [ 0.,  0.,  0., ...,  0.,  0.,  1.],\n",
       "       [ 0.,  0.,  0., ...,  1.,  0.,  0.],\n",
       "       ..., \n",
       "       [ 0.,  1.,  0., ...,  0.,  1.,  0.],\n",
       "       [ 0.,  1.,  0., ...,  0.,  0.,  1.],\n",
       "       [ 0.,  1.,  0., ...,  1.,  0.,  0.]])"
      ]
     },
     "execution_count": 23,
     "metadata": {},
     "output_type": "execute_result"
    }
   ],
   "source": [
    "# Codificando os valores de X em vetores binários\n",
    "X_oh = x_oneHot.fit_transform(X_le.reshape(X.shape)).toarray()\n",
    "X_oh"
   ]
  },
  {
   "cell_type": "code",
   "execution_count": 24,
   "metadata": {},
   "outputs": [],
   "source": [
    "# Fazendo a Padronização dos dados\n",
    "from sklearn.preprocessing import StandardScaler\n",
    "\n",
    "#Padroniza os dados de X\n",
    "scale_x = StandardScaler()\n",
    "X_p = scale_x.fit_transform(X_oh.astype(float))"
   ]
  },
  {
   "cell_type": "code",
   "execution_count": 25,
   "metadata": {},
   "outputs": [
    {
     "data": {
      "text/plain": [
       "(1728, 21)"
      ]
     },
     "execution_count": 25,
     "metadata": {},
     "output_type": "execute_result"
    }
   ],
   "source": [
    "X_p.shape"
   ]
  },
  {
   "cell_type": "code",
   "execution_count": 26,
   "metadata": {},
   "outputs": [
    {
     "data": {
      "text/plain": [
       "array([[-0.57735027, -0.57735027, -0.57735027, ..., -0.70710678,\n",
       "         1.41421356, -0.70710678],\n",
       "       [-0.57735027, -0.57735027, -0.57735027, ..., -0.70710678,\n",
       "        -0.70710678,  1.41421356],\n",
       "       [-0.57735027, -0.57735027, -0.57735027, ...,  1.41421356,\n",
       "        -0.70710678, -0.70710678],\n",
       "       ..., \n",
       "       [-0.57735027,  1.73205081, -0.57735027, ..., -0.70710678,\n",
       "         1.41421356, -0.70710678],\n",
       "       [-0.57735027,  1.73205081, -0.57735027, ..., -0.70710678,\n",
       "        -0.70710678,  1.41421356],\n",
       "       [-0.57735027,  1.73205081, -0.57735027, ...,  1.41421356,\n",
       "        -0.70710678, -0.70710678]])"
      ]
     },
     "execution_count": 26,
     "metadata": {},
     "output_type": "execute_result"
    }
   ],
   "source": [
    "X_p"
   ]
  },
  {
   "cell_type": "markdown",
   "metadata": {},
   "source": [
    "# Testando Alguns Modelos de Machine Learning"
   ]
  },
  {
   "cell_type": "code",
   "execution_count": 27,
   "metadata": {},
   "outputs": [],
   "source": [
    "# Importando as bibliotecas dos modelos\n",
    "from sklearn import model_selection\n",
    "from sklearn.ensemble import AdaBoostClassifier\n",
    "from sklearn.ensemble import GradientBoostingClassifier\n",
    "from sklearn.ensemble import RandomForestClassifier\n",
    "from sklearn.ensemble import ExtraTreesClassifier\n",
    "from sklearn.tree import DecisionTreeClassifier\n",
    "from sklearn.neighbors import KNeighborsClassifier\n",
    "from sklearn.discriminant_analysis import LinearDiscriminantAnalysis\n",
    "from sklearn.naive_bayes import GaussianNB\n",
    "from sklearn.linear_model import LogisticRegression\n",
    "from sklearn.svm import SVC\n",
    "import xgboost"
   ]
  },
  {
   "cell_type": "code",
   "execution_count": 28,
   "metadata": {},
   "outputs": [],
   "source": [
    "# Defindo os parâmetos do FOLD\n",
    "qtd_instancias = len(X_p)\n",
    "qtd_folds = 23\n",
    "seed = 7\n",
    "\n",
    "# Criando a lista de modelos para avaliação.\n",
    "modelos = []\n",
    "modelos.append(('AdaBoostClassifier', AdaBoostClassifier()))\n",
    "modelos.append(('GradientBoostingClassifier', GradientBoostingClassifier()))\n",
    "modelos.append(('RandomForestClassifier', RandomForestClassifier(n_estimators=10)))\n",
    "modelos.append(('ExtraTreesClassifier', ExtraTreesClassifier(n_estimators=10)))\n",
    "modelos.append(('DecisionTreeClassifier', DecisionTreeClassifier()))\n",
    "modelos.append(('KNeighborsClassifier', KNeighborsClassifier()))\n",
    "modelos.append(('GaussianNB', GaussianNB()))\n",
    "modelos.append(('LogisticRegression', LogisticRegression(solver='lbfgs', multi_class='auto', max_iter=10000)))\n",
    "modelos.append(('SVC', SVC()))\n",
    "modelos.append(('xgboost', xgboost.XGBClassifier()))"
   ]
  },
  {
   "cell_type": "code",
   "execution_count": null,
   "metadata": {},
   "outputs": [],
   "source": []
  },
  {
   "cell_type": "code",
   "execution_count": 29,
   "metadata": {},
   "outputs": [
    {
     "name": "stdout",
     "output_type": "stream",
     "text": [
      "\n",
      "AdaBoostClassifier: Acurácia: 0.8314 (Desvio Padrão: 0.0797)\n",
      "Tempo de Treinamento: 1.746208 segundos\n",
      "\n",
      "GradientBoostingClassifier: Acurácia: 0.9693 (Desvio Padrão: 0.0350)\n",
      "Tempo de Treinamento: 15.586454 segundos\n",
      "\n",
      "RandomForestClassifier: Acurácia: 0.9079 (Desvio Padrão: 0.0661)\n",
      "Tempo de Treinamento: 0.34422 segundos\n",
      "\n",
      "ExtraTreesClassifier: Acurácia: 0.9011 (Desvio Padrão: 0.0664)\n",
      "Tempo de Treinamento: 0.296937 segundos\n",
      "\n",
      "DecisionTreeClassifier: Acurácia: 0.9457 (Desvio Padrão: 0.0578)\n",
      "Tempo de Treinamento: 0.045327 segundos\n",
      "\n",
      "KNeighborsClassifier: Acurácia: 0.8813 (Desvio Padrão: 0.1072)\n",
      "Tempo de Treinamento: 0.160842 segundos\n",
      "\n",
      "GaussianNB: Acurácia: 0.8031 (Desvio Padrão: 0.1242)\n",
      "Tempo de Treinamento: 0.054616 segundos\n",
      "\n",
      "LogisticRegression: Acurácia: 0.8830 (Desvio Padrão: 0.0635)\n",
      "Tempo de Treinamento: 1.748592 segundos\n",
      "\n",
      "SVC: Acurácia: 0.9519 (Desvio Padrão: 0.0578)\n",
      "Tempo de Treinamento: 2.278144 segundos\n",
      "\n",
      "xgboost: Acurácia: 0.9196 (Desvio Padrão: 0.0837)\n",
      "Tempo de Treinamento: 7.111357 segundos\n"
     ]
    }
   ],
   "source": [
    "# Definindo as listas para análise dos resultados.\n",
    "resultados = []\n",
    "nomes_modelos = []\n",
    "tempo_treinamento_modelos = []\n",
    "\n",
    "# Treina os Modelos\n",
    "for nome_modelo, modelo in modelos:\n",
    "    kfold = model_selection.KFold(n_splits=qtd_folds, random_state=seed)\n",
    "    #print(nome_modelo)\n",
    "    #Define o tempo de inicio do Treinamento\n",
    "    inicio = datetime.now()\n",
    "\n",
    "    resultados_cros_val = model_selection.cross_val_score(modelo, X_p, y_le.ravel(), cv=kfold, scoring='accuracy')\n",
    "    \n",
    "    #Define o tempo final do Treinamento\n",
    "    fim = datetime.now()   \n",
    "    tempo_modelo = (fim - inicio).total_seconds()\n",
    "    tempo_treinamento_modelos.append( tempo_modelo)\n",
    "    \n",
    "    resultados.append(resultados_cros_val)   \n",
    "    nomes_modelos.append(nome_modelo)        \n",
    "    \n",
    "    print(\"\\n%s: Acurácia: %.4f (Desvio Padrão: %.4f)\"  % (nome_modelo, resultados_cros_val.mean(), resultados_cros_val.std()) )\n",
    "    print('Tempo de Treinamento: %s segundos' % tempo_modelo )    "
   ]
  },
  {
   "cell_type": "code",
   "execution_count": null,
   "metadata": {},
   "outputs": [],
   "source": []
  },
  {
   "cell_type": "code",
   "execution_count": 30,
   "metadata": {},
   "outputs": [
    {
     "data": {
      "application/vnd.plotly.v1+json": {
       "config": {
        "linkText": "Export to plot.ly",
        "plotlyServerURL": "https://plot.ly",
        "showLink": false
       },
       "data": [
        {
         "name": "AdaBoostClassifier ",
         "type": "box",
         "uid": "59698199-4d73-4938-b9ca-5f9f462f92af",
         "y": [
          1,
          0.9342105263157895,
          0.8421052631578947,
          0.9066666666666666,
          0.8933333333333333,
          0.8133333333333334,
          0.8533333333333334,
          0.8533333333333334,
          0.8,
          0.84,
          0.84,
          0.8266666666666667,
          0.92,
          0.72,
          0.8533333333333334,
          0.8533333333333334,
          0.6133333333333333,
          0.76,
          0.8133333333333334,
          0.8133333333333334,
          0.7466666666666667,
          0.7333333333333333,
          0.8933333333333333
         ]
        },
        {
         "name": "GradientBoostingClassifier ",
         "type": "box",
         "uid": "1dd7fb1d-c6be-496b-93a6-7ebe34116833",
         "y": [
          1,
          1,
          1,
          0.9866666666666667,
          0.9733333333333334,
          1,
          1,
          0.9866666666666667,
          0.9866666666666667,
          0.9866666666666667,
          0.9733333333333334,
          0.9866666666666667,
          0.9333333333333333,
          0.8933333333333333,
          0.9733333333333334,
          0.8933333333333333,
          0.9866666666666667,
          0.96,
          1,
          1,
          0.9466666666666667,
          0.9066666666666666,
          0.92
         ]
        },
        {
         "name": "RandomForestClassifier ",
         "type": "box",
         "uid": "09352f16-248c-4790-9a2b-5c103041ba94",
         "y": [
          1,
          0.9736842105263158,
          0.868421052631579,
          0.9066666666666666,
          0.9333333333333333,
          0.96,
          0.8,
          0.9066666666666666,
          0.9866666666666667,
          1,
          0.9866666666666667,
          0.9466666666666667,
          0.8533333333333334,
          0.96,
          0.9066666666666666,
          0.8666666666666667,
          0.7466666666666667,
          0.8933333333333333,
          0.92,
          0.9333333333333333,
          0.84,
          0.8133333333333334,
          0.88
         ]
        },
        {
         "name": "ExtraTreesClassifier ",
         "type": "box",
         "uid": "274e66b4-81da-4130-81cb-7b2c9e041cf0",
         "y": [
          0.9736842105263158,
          0.9210526315789473,
          0.7368421052631579,
          0.96,
          0.9733333333333334,
          0.9466666666666667,
          0.8533333333333334,
          0.96,
          0.96,
          0.9866666666666667,
          0.9466666666666667,
          0.96,
          0.9066666666666666,
          0.84,
          0.9333333333333333,
          0.8533333333333334,
          0.88,
          0.88,
          0.92,
          0.88,
          0.88,
          0.8,
          0.7733333333333333
         ]
        },
        {
         "name": "DecisionTreeClassifier ",
         "type": "box",
         "uid": "f3ef4afd-d197-4e5d-95ab-053fbc0f6848",
         "y": [
          1,
          0.9868421052631579,
          0.7368421052631579,
          0.9466666666666667,
          0.9333333333333333,
          0.92,
          1,
          1,
          1,
          1,
          0.9466666666666667,
          0.96,
          0.8933333333333333,
          0.96,
          0.9333333333333333,
          0.88,
          0.9466666666666667,
          0.92,
          0.8933333333333333,
          0.96,
          0.9866666666666667,
          0.9466666666666667,
          1
         ]
        },
        {
         "name": "KNeighborsClassifier ",
         "type": "box",
         "uid": "dc16afa9-87a8-45a1-bd44-c378c6d55297",
         "y": [
          0.868421052631579,
          1,
          0.8421052631578947,
          0.9466666666666667,
          0.96,
          0.92,
          0.7466666666666667,
          1,
          0.92,
          0.9866666666666667,
          1,
          0.9466666666666667,
          0.96,
          0.9866666666666667,
          0.96,
          0.8266666666666667,
          0.6,
          0.8,
          0.9066666666666666,
          0.7733333333333333,
          0.8666666666666667,
          0.7466666666666667,
          0.7066666666666667
         ]
        },
        {
         "name": "GaussianNB ",
         "type": "box",
         "uid": "3e4d8147-cfa8-4455-a449-f6e641788b28",
         "y": [
          0.5789473684210527,
          0.5657894736842105,
          0.5789473684210527,
          0.88,
          0.8666666666666667,
          0.84,
          0.5733333333333334,
          0.7866666666666666,
          0.88,
          0.9066666666666666,
          0.88,
          0.88,
          0.92,
          0.7066666666666667,
          0.6933333333333334,
          0.72,
          0.8666666666666667,
          0.8666666666666667,
          0.8933333333333333,
          0.9866666666666667,
          0.84,
          0.8666666666666667,
          0.8933333333333333
         ]
        },
        {
         "name": "LogisticRegression ",
         "type": "box",
         "uid": "594e8ee7-f0f7-48c1-9ce9-bcd57260427e",
         "y": [
          1,
          0.9736842105263158,
          0.7894736842105263,
          0.88,
          0.92,
          0.8933333333333333,
          0.88,
          0.84,
          0.8,
          0.92,
          0.9333333333333333,
          0.9333333333333333,
          0.8533333333333334,
          0.8533333333333334,
          0.88,
          0.9733333333333334,
          0.7733333333333333,
          0.88,
          0.96,
          0.9066666666666666,
          0.8133333333333334,
          0.7733333333333333,
          0.88
         ]
        },
        {
         "name": "SVC ",
         "type": "box",
         "uid": "22d7c27d-d8e6-4edc-b736-3bc20c3b7a66",
         "y": [
          1,
          1,
          1,
          0.9866666666666667,
          0.96,
          1,
          1,
          0.9866666666666667,
          0.9866666666666667,
          0.9866666666666667,
          0.96,
          0.9733333333333334,
          1,
          0.88,
          0.96,
          0.9066666666666666,
          0.7866666666666666,
          0.9466666666666667,
          0.9733333333333334,
          0.8266666666666667,
          0.92,
          0.88,
          0.9733333333333334
         ]
        },
        {
         "name": "xgboost",
         "type": "box",
         "uid": "b0fd4873-9d05-4d26-913a-5ff1b37ca85e",
         "y": [
          1,
          1,
          0.7236842105263158,
          0.92,
          0.96,
          1,
          1,
          0.9866666666666667,
          0.96,
          0.9866666666666667,
          0.96,
          0.9733333333333334,
          0.9333333333333333,
          0.8133333333333334,
          0.96,
          0.7866666666666666,
          0.84,
          0.9466666666666667,
          0.96,
          0.9866666666666667,
          0.8533333333333334,
          0.84,
          0.76
         ]
        }
       ],
       "layout": {
        "autosize": true,
        "showlegend": false,
        "title": {
         "text": "Comparação dos Algoritmos de Classificação"
        },
        "xaxis": {
         "autorange": true,
         "range": [
          -0.5,
          9.5
         ],
         "type": "category"
        },
        "yaxis": {
         "autorange": true,
         "range": [
          0.5416666666666666,
          1.0241228070175439
         ],
         "title": {
          "text": "acurácia"
         },
         "type": "linear"
        }
       }
      },
      "image/png": "[encoded data removed]",
      "text/html": [
       "<div id=\"e237d6ad-b724-4f7a-8501-f57d068b2787\" style=\"height: 525px; width: 100%;\" class=\"plotly-graph-div\"></div><script type=\"text/javascript\">require([\"plotly\"], function(Plotly) { window.PLOTLYENV=window.PLOTLYENV || {};window.PLOTLYENV.BASE_URL=\"https://plot.ly\";\n",
       "if (document.getElementById(\"e237d6ad-b724-4f7a-8501-f57d068b2787\")) {\n",
       "    Plotly.newPlot(\"e237d6ad-b724-4f7a-8501-f57d068b2787\", [{\"name\": \"AdaBoostClassifier \", \"y\": [1.0, 0.9342105263157895, 0.8421052631578947, 0.9066666666666666, 0.8933333333333333, 0.8133333333333334, 0.8533333333333334, 0.8533333333333334, 0.8, 0.84, 0.84, 0.8266666666666667, 0.92, 0.72, 0.8533333333333334, 0.8533333333333334, 0.6133333333333333, 0.76, 0.8133333333333334, 0.8133333333333334, 0.7466666666666667, 0.7333333333333333, 0.8933333333333333], \"type\": \"box\", \"uid\": \"59698199-4d73-4938-b9ca-5f9f462f92af\"}, {\"name\": \"GradientBoostingClassifier \", \"y\": [1.0, 1.0, 1.0, 0.9866666666666667, 0.9733333333333334, 1.0, 1.0, 0.9866666666666667, 0.9866666666666667, 0.9866666666666667, 0.9733333333333334, 0.9866666666666667, 0.9333333333333333, 0.8933333333333333, 0.9733333333333334, 0.8933333333333333, 0.9866666666666667, 0.96, 1.0, 1.0, 0.9466666666666667, 0.9066666666666666, 0.92], \"type\": \"box\", \"uid\": \"1dd7fb1d-c6be-496b-93a6-7ebe34116833\"}, {\"name\": \"RandomForestClassifier \", \"y\": [1.0, 0.9736842105263158, 0.868421052631579, 0.9066666666666666, 0.9333333333333333, 0.96, 0.8, 0.9066666666666666, 0.9866666666666667, 1.0, 0.9866666666666667, 0.9466666666666667, 0.8533333333333334, 0.96, 0.9066666666666666, 0.8666666666666667, 0.7466666666666667, 0.8933333333333333, 0.92, 0.9333333333333333, 0.84, 0.8133333333333334, 0.88], \"type\": \"box\", \"uid\": \"09352f16-248c-4790-9a2b-5c103041ba94\"}, {\"name\": \"ExtraTreesClassifier \", \"y\": [0.9736842105263158, 0.9210526315789473, 0.7368421052631579, 0.96, 0.9733333333333334, 0.9466666666666667, 0.8533333333333334, 0.96, 0.96, 0.9866666666666667, 0.9466666666666667, 0.96, 0.9066666666666666, 0.84, 0.9333333333333333, 0.8533333333333334, 0.88, 0.88, 0.92, 0.88, 0.88, 0.8, 0.7733333333333333], \"type\": \"box\", \"uid\": \"274e66b4-81da-4130-81cb-7b2c9e041cf0\"}, {\"name\": \"DecisionTreeClassifier \", \"y\": [1.0, 0.9868421052631579, 0.7368421052631579, 0.9466666666666667, 0.9333333333333333, 0.92, 1.0, 1.0, 1.0, 1.0, 0.9466666666666667, 0.96, 0.8933333333333333, 0.96, 0.9333333333333333, 0.88, 0.9466666666666667, 0.92, 0.8933333333333333, 0.96, 0.9866666666666667, 0.9466666666666667, 1.0], \"type\": \"box\", \"uid\": \"f3ef4afd-d197-4e5d-95ab-053fbc0f6848\"}, {\"name\": \"KNeighborsClassifier \", \"y\": [0.868421052631579, 1.0, 0.8421052631578947, 0.9466666666666667, 0.96, 0.92, 0.7466666666666667, 1.0, 0.92, 0.9866666666666667, 1.0, 0.9466666666666667, 0.96, 0.9866666666666667, 0.96, 0.8266666666666667, 0.6, 0.8, 0.9066666666666666, 0.7733333333333333, 0.8666666666666667, 0.7466666666666667, 0.7066666666666667], \"type\": \"box\", \"uid\": \"dc16afa9-87a8-45a1-bd44-c378c6d55297\"}, {\"name\": \"GaussianNB \", \"y\": [0.5789473684210527, 0.5657894736842105, 0.5789473684210527, 0.88, 0.8666666666666667, 0.84, 0.5733333333333334, 0.7866666666666666, 0.88, 0.9066666666666666, 0.88, 0.88, 0.92, 0.7066666666666667, 0.6933333333333334, 0.72, 0.8666666666666667, 0.8666666666666667, 0.8933333333333333, 0.9866666666666667, 0.84, 0.8666666666666667, 0.8933333333333333], \"type\": \"box\", \"uid\": \"3e4d8147-cfa8-4455-a449-f6e641788b28\"}, {\"name\": \"LogisticRegression \", \"y\": [1.0, 0.9736842105263158, 0.7894736842105263, 0.88, 0.92, 0.8933333333333333, 0.88, 0.84, 0.8, 0.92, 0.9333333333333333, 0.9333333333333333, 0.8533333333333334, 0.8533333333333334, 0.88, 0.9733333333333334, 0.7733333333333333, 0.88, 0.96, 0.9066666666666666, 0.8133333333333334, 0.7733333333333333, 0.88], \"type\": \"box\", \"uid\": \"594e8ee7-f0f7-48c1-9ce9-bcd57260427e\"}, {\"name\": \"SVC \", \"y\": [1.0, 1.0, 1.0, 0.9866666666666667, 0.96, 1.0, 1.0, 0.9866666666666667, 0.9866666666666667, 0.9866666666666667, 0.96, 0.9733333333333334, 1.0, 0.88, 0.96, 0.9066666666666666, 0.7866666666666666, 0.9466666666666667, 0.9733333333333334, 0.8266666666666667, 0.92, 0.88, 0.9733333333333334], \"type\": \"box\", \"uid\": \"22d7c27d-d8e6-4edc-b736-3bc20c3b7a66\"}, {\"name\": \"xgboost\", \"y\": [1.0, 1.0, 0.7236842105263158, 0.92, 0.96, 1.0, 1.0, 0.9866666666666667, 0.96, 0.9866666666666667, 0.96, 0.9733333333333334, 0.9333333333333333, 0.8133333333333334, 0.96, 0.7866666666666666, 0.84, 0.9466666666666667, 0.96, 0.9866666666666667, 0.8533333333333334, 0.84, 0.76], \"type\": \"box\", \"uid\": \"b0fd4873-9d05-4d26-913a-5ff1b37ca85e\"}], {\"showlegend\": false, \"title\": {\"text\": \"Compara\\u00e7\\u00e3o dos Algoritmos de Classifica\\u00e7\\u00e3o\"}, \"yaxis\": {\"title\": {\"text\": \"acur\\u00e1cia\"}}}, {\"showLink\": false, \"linkText\": \"Export to plot.ly\", \"plotlyServerURL\": \"https://plot.ly\"}); \n",
       "}\n",
       "});</script><script type=\"text/javascript\">window.addEventListener(\"resize\", function(){if (document.getElementById(\"e237d6ad-b724-4f7a-8501-f57d068b2787\")) {window._Plotly.Plots.resize(document.getElementById(\"e237d6ad-b724-4f7a-8501-f57d068b2787\"));};})</script>"
      ],
      "text/vnd.plotly.v1+html": [
       "<div id=\"e237d6ad-b724-4f7a-8501-f57d068b2787\" style=\"height: 525px; width: 100%;\" class=\"plotly-graph-div\"></div><script type=\"text/javascript\">require([\"plotly\"], function(Plotly) { window.PLOTLYENV=window.PLOTLYENV || {};window.PLOTLYENV.BASE_URL=\"https://plot.ly\";\n",
       "if (document.getElementById(\"e237d6ad-b724-4f7a-8501-f57d068b2787\")) {\n",
       "    Plotly.newPlot(\"e237d6ad-b724-4f7a-8501-f57d068b2787\", [{\"name\": \"AdaBoostClassifier \", \"y\": [1.0, 0.9342105263157895, 0.8421052631578947, 0.9066666666666666, 0.8933333333333333, 0.8133333333333334, 0.8533333333333334, 0.8533333333333334, 0.8, 0.84, 0.84, 0.8266666666666667, 0.92, 0.72, 0.8533333333333334, 0.8533333333333334, 0.6133333333333333, 0.76, 0.8133333333333334, 0.8133333333333334, 0.7466666666666667, 0.7333333333333333, 0.8933333333333333], \"type\": \"box\", \"uid\": \"59698199-4d73-4938-b9ca-5f9f462f92af\"}, {\"name\": \"GradientBoostingClassifier \", \"y\": [1.0, 1.0, 1.0, 0.9866666666666667, 0.9733333333333334, 1.0, 1.0, 0.9866666666666667, 0.9866666666666667, 0.9866666666666667, 0.9733333333333334, 0.9866666666666667, 0.9333333333333333, 0.8933333333333333, 0.9733333333333334, 0.8933333333333333, 0.9866666666666667, 0.96, 1.0, 1.0, 0.9466666666666667, 0.9066666666666666, 0.92], \"type\": \"box\", \"uid\": \"1dd7fb1d-c6be-496b-93a6-7ebe34116833\"}, {\"name\": \"RandomForestClassifier \", \"y\": [1.0, 0.9736842105263158, 0.868421052631579, 0.9066666666666666, 0.9333333333333333, 0.96, 0.8, 0.9066666666666666, 0.9866666666666667, 1.0, 0.9866666666666667, 0.9466666666666667, 0.8533333333333334, 0.96, 0.9066666666666666, 0.8666666666666667, 0.7466666666666667, 0.8933333333333333, 0.92, 0.9333333333333333, 0.84, 0.8133333333333334, 0.88], \"type\": \"box\", \"uid\": \"09352f16-248c-4790-9a2b-5c103041ba94\"}, {\"name\": \"ExtraTreesClassifier \", \"y\": [0.9736842105263158, 0.9210526315789473, 0.7368421052631579, 0.96, 0.9733333333333334, 0.9466666666666667, 0.8533333333333334, 0.96, 0.96, 0.9866666666666667, 0.9466666666666667, 0.96, 0.9066666666666666, 0.84, 0.9333333333333333, 0.8533333333333334, 0.88, 0.88, 0.92, 0.88, 0.88, 0.8, 0.7733333333333333], \"type\": \"box\", \"uid\": \"274e66b4-81da-4130-81cb-7b2c9e041cf0\"}, {\"name\": \"DecisionTreeClassifier \", \"y\": [1.0, 0.9868421052631579, 0.7368421052631579, 0.9466666666666667, 0.9333333333333333, 0.92, 1.0, 1.0, 1.0, 1.0, 0.9466666666666667, 0.96, 0.8933333333333333, 0.96, 0.9333333333333333, 0.88, 0.9466666666666667, 0.92, 0.8933333333333333, 0.96, 0.9866666666666667, 0.9466666666666667, 1.0], \"type\": \"box\", \"uid\": \"f3ef4afd-d197-4e5d-95ab-053fbc0f6848\"}, {\"name\": \"KNeighborsClassifier \", \"y\": [0.868421052631579, 1.0, 0.8421052631578947, 0.9466666666666667, 0.96, 0.92, 0.7466666666666667, 1.0, 0.92, 0.9866666666666667, 1.0, 0.9466666666666667, 0.96, 0.9866666666666667, 0.96, 0.8266666666666667, 0.6, 0.8, 0.9066666666666666, 0.7733333333333333, 0.8666666666666667, 0.7466666666666667, 0.7066666666666667], \"type\": \"box\", \"uid\": \"dc16afa9-87a8-45a1-bd44-c378c6d55297\"}, {\"name\": \"GaussianNB \", \"y\": [0.5789473684210527, 0.5657894736842105, 0.5789473684210527, 0.88, 0.8666666666666667, 0.84, 0.5733333333333334, 0.7866666666666666, 0.88, 0.9066666666666666, 0.88, 0.88, 0.92, 0.7066666666666667, 0.6933333333333334, 0.72, 0.8666666666666667, 0.8666666666666667, 0.8933333333333333, 0.9866666666666667, 0.84, 0.8666666666666667, 0.8933333333333333], \"type\": \"box\", \"uid\": \"3e4d8147-cfa8-4455-a449-f6e641788b28\"}, {\"name\": \"LogisticRegression \", \"y\": [1.0, 0.9736842105263158, 0.7894736842105263, 0.88, 0.92, 0.8933333333333333, 0.88, 0.84, 0.8, 0.92, 0.9333333333333333, 0.9333333333333333, 0.8533333333333334, 0.8533333333333334, 0.88, 0.9733333333333334, 0.7733333333333333, 0.88, 0.96, 0.9066666666666666, 0.8133333333333334, 0.7733333333333333, 0.88], \"type\": \"box\", \"uid\": \"594e8ee7-f0f7-48c1-9ce9-bcd57260427e\"}, {\"name\": \"SVC \", \"y\": [1.0, 1.0, 1.0, 0.9866666666666667, 0.96, 1.0, 1.0, 0.9866666666666667, 0.9866666666666667, 0.9866666666666667, 0.96, 0.9733333333333334, 1.0, 0.88, 0.96, 0.9066666666666666, 0.7866666666666666, 0.9466666666666667, 0.9733333333333334, 0.8266666666666667, 0.92, 0.88, 0.9733333333333334], \"type\": \"box\", \"uid\": \"22d7c27d-d8e6-4edc-b736-3bc20c3b7a66\"}, {\"name\": \"xgboost\", \"y\": [1.0, 1.0, 0.7236842105263158, 0.92, 0.96, 1.0, 1.0, 0.9866666666666667, 0.96, 0.9866666666666667, 0.96, 0.9733333333333334, 0.9333333333333333, 0.8133333333333334, 0.96, 0.7866666666666666, 0.84, 0.9466666666666667, 0.96, 0.9866666666666667, 0.8533333333333334, 0.84, 0.76], \"type\": \"box\", \"uid\": \"b0fd4873-9d05-4d26-913a-5ff1b37ca85e\"}], {\"showlegend\": false, \"title\": {\"text\": \"Compara\\u00e7\\u00e3o dos Algoritmos de Classifica\\u00e7\\u00e3o\"}, \"yaxis\": {\"title\": {\"text\": \"acur\\u00e1cia\"}}}, {\"showLink\": false, \"linkText\": \"Export to plot.ly\", \"plotlyServerURL\": \"https://plot.ly\"}); \n",
       "}\n",
       "});</script><script type=\"text/javascript\">window.addEventListener(\"resize\", function(){if (document.getElementById(\"e237d6ad-b724-4f7a-8501-f57d068b2787\")) {window._Plotly.Plots.resize(document.getElementById(\"e237d6ad-b724-4f7a-8501-f57d068b2787\"));};})</script>"
      ]
     },
     "metadata": {},
     "output_type": "display_data"
    }
   ],
   "source": [
    "#Plota um gráfico de Comparação dos Algoritmos de Classificação\n",
    "\n",
    "# Prepara os dados do Plot\n",
    "resul_AdaBoostClassifier = resultados[0]\n",
    "resul_GradientBoostingClassifier = resultados[1]\n",
    "resul_RandomForestClassifier = resultados[2]\n",
    "resul_ExtraTreesClassifier = resultados[3]\n",
    "resul_DecisionTreeClassifier = resultados[4]\n",
    "resul_KNeighborsClassifier = resultados[5]\n",
    "resul_GaussianNB = resultados[6]\n",
    "resul_LogisticRegression = resultados[7]\n",
    "#resul_LogisticRegressionCV = resultados[8]\n",
    "resul_SVC = resultados[8]\n",
    "resul_xgboost = resultados[9]\n",
    "\n",
    "# Configura o Plot.\n",
    "trace0= go.Box(y=resul_AdaBoostClassifier , name = 'AdaBoostClassifier ')\n",
    "trace1= go.Box(y=resul_GradientBoostingClassifier , name = 'GradientBoostingClassifier ')\n",
    "trace2= go.Box(y=resul_RandomForestClassifier , name = 'RandomForestClassifier ')\n",
    "trace3= go.Box(y=resul_ExtraTreesClassifier , name = 'ExtraTreesClassifier ')\n",
    "trace4= go.Box(y=resul_DecisionTreeClassifier , name = 'DecisionTreeClassifier ')\n",
    "trace5= go.Box(y=resul_KNeighborsClassifier , name = 'KNeighborsClassifier ')\n",
    "trace6= go.Box(y=resul_GaussianNB , name = 'GaussianNB ')\n",
    "trace7= go.Box(y=resul_LogisticRegression , name = 'LogisticRegression ')\n",
    "trace8= go.Box(y=resul_SVC , name = 'SVC ')\n",
    "trace9= go.Box(y=resul_xgboost , name = 'xgboost', )\n",
    "\n",
    "data = [trace0,trace1,trace2,trace3,trace4,trace5,trace6,trace7,trace8,trace9]\n",
    "\n",
    "layout = go.Layout(yaxis=dict(title='acurácia') ,title='Comparação dos Algoritmos de Classificação', showlegend=False)\n",
    "fig = go.Figure(data=data, layout=layout )\n",
    "py.iplot(fig )"
   ]
  },
  {
   "cell_type": "code",
   "execution_count": null,
   "metadata": {},
   "outputs": [],
   "source": []
  },
  {
   "cell_type": "code",
   "execution_count": 31,
   "metadata": {},
   "outputs": [
    {
     "data": {
      "application/vnd.plotly.v1+json": {
       "config": {
        "linkText": "Export to plot.ly",
        "plotlyServerURL": "https://plot.ly",
        "showLink": false
       },
       "data": [
        {
         "marker": {
          "color": [
           "rgb(31, 119, 180)",
           "rgb(255, 127, 14)",
           "rgb(44, 160, 44)",
           "rgb(214, 39, 40)",
           "rgb(148, 103, 189)",
           "rgb(140, 86, 75)",
           "rgb(227, 119, 194)",
           "rgb(127, 127, 127)",
           "rgb(188, 189, 34)",
           "rgb(23, 190, 207)"
          ]
         },
         "opacity": 0.7,
         "text": [
          "1.746208",
          "15.586454",
          "0.34422",
          "0.296937",
          "0.045327",
          "0.160842",
          "0.054616",
          "1.748592",
          "2.278144",
          "7.111357"
         ],
         "textposition": "auto",
         "type": "bar",
         "uid": "4934496f-dcca-4c1f-85a6-b03851361063",
         "x": [
          "AdaBoostClassifier",
          "GradientBoostingClassifier",
          "RandomForestClassifier",
          "ExtraTreesClassifier",
          "DecisionTreeClassifier",
          "KNeighborsClassifier",
          "GaussianNB",
          "LogisticRegression",
          "SVC",
          "xgboost"
         ],
         "y": [
          1.746208,
          15.586454,
          0.34422,
          0.296937,
          0.045327,
          0.160842,
          0.054616,
          1.748592,
          2.278144,
          7.111357
         ]
        }
       ],
       "layout": {
        "autosize": true,
        "title": {
         "text": "Tempo para treinamento dos Algoritmos de Classificação"
        },
        "xaxis": {
         "autorange": true,
         "range": [
          -0.5,
          9.5
         ],
         "type": "category"
        },
        "yaxis": {
         "autorange": true,
         "range": [
          0,
          16.406793684210527
         ],
         "title": {
          "text": "segundos"
         },
         "type": "linear"
        }
       }
      },
      "image/png": "[encoded data removed]",
      "text/html": [
       "<div id=\"f3bcb123-f3d9-45ef-b471-5f2071218e88\" style=\"height: 525px; width: 100%;\" class=\"plotly-graph-div\"></div><script type=\"text/javascript\">require([\"plotly\"], function(Plotly) { window.PLOTLYENV=window.PLOTLYENV || {};window.PLOTLYENV.BASE_URL=\"https://plot.ly\";\n",
       "if (document.getElementById(\"f3bcb123-f3d9-45ef-b471-5f2071218e88\")) {\n",
       "    Plotly.newPlot(\"f3bcb123-f3d9-45ef-b471-5f2071218e88\", [{\"marker\": {\"color\": [\"rgb(31, 119, 180)\", \"rgb(255, 127, 14)\", \"rgb(44, 160, 44)\", \"rgb(214, 39, 40)\", \"rgb(148, 103, 189)\", \"rgb(140, 86, 75)\", \"rgb(227, 119, 194)\", \"rgb(127, 127, 127)\", \"rgb(188, 189, 34)\", \"rgb(23, 190, 207)\"]}, \"opacity\": 0.7, \"text\": [\"1.746208\", \"15.586454\", \"0.34422\", \"0.296937\", \"0.045327\", \"0.160842\", \"0.054616\", \"1.748592\", \"2.278144\", \"7.111357\"], \"textposition\": \"auto\", \"x\": [\"AdaBoostClassifier\", \"GradientBoostingClassifier\", \"RandomForestClassifier\", \"ExtraTreesClassifier\", \"DecisionTreeClassifier\", \"KNeighborsClassifier\", \"GaussianNB\", \"LogisticRegression\", \"SVC\", \"xgboost\"], \"y\": [1.746208, 15.586454, 0.34422, 0.296937, 0.045327, 0.160842, 0.054616, 1.748592, 2.278144, 7.111357], \"type\": \"bar\", \"uid\": \"4934496f-dcca-4c1f-85a6-b03851361063\"}], {\"title\": {\"text\": \"Tempo para treinamento dos Algoritmos de Classifica\\u00e7\\u00e3o\"}, \"yaxis\": {\"title\": {\"text\": \"segundos\"}}}, {\"showLink\": false, \"linkText\": \"Export to plot.ly\", \"plotlyServerURL\": \"https://plot.ly\"}); \n",
       "}\n",
       "});</script><script type=\"text/javascript\">window.addEventListener(\"resize\", function(){if (document.getElementById(\"f3bcb123-f3d9-45ef-b471-5f2071218e88\")) {window._Plotly.Plots.resize(document.getElementById(\"f3bcb123-f3d9-45ef-b471-5f2071218e88\"));};})</script>"
      ],
      "text/vnd.plotly.v1+html": [
       "<div id=\"f3bcb123-f3d9-45ef-b471-5f2071218e88\" style=\"height: 525px; width: 100%;\" class=\"plotly-graph-div\"></div><script type=\"text/javascript\">require([\"plotly\"], function(Plotly) { window.PLOTLYENV=window.PLOTLYENV || {};window.PLOTLYENV.BASE_URL=\"https://plot.ly\";\n",
       "if (document.getElementById(\"f3bcb123-f3d9-45ef-b471-5f2071218e88\")) {\n",
       "    Plotly.newPlot(\"f3bcb123-f3d9-45ef-b471-5f2071218e88\", [{\"marker\": {\"color\": [\"rgb(31, 119, 180)\", \"rgb(255, 127, 14)\", \"rgb(44, 160, 44)\", \"rgb(214, 39, 40)\", \"rgb(148, 103, 189)\", \"rgb(140, 86, 75)\", \"rgb(227, 119, 194)\", \"rgb(127, 127, 127)\", \"rgb(188, 189, 34)\", \"rgb(23, 190, 207)\"]}, \"opacity\": 0.7, \"text\": [\"1.746208\", \"15.586454\", \"0.34422\", \"0.296937\", \"0.045327\", \"0.160842\", \"0.054616\", \"1.748592\", \"2.278144\", \"7.111357\"], \"textposition\": \"auto\", \"x\": [\"AdaBoostClassifier\", \"GradientBoostingClassifier\", \"RandomForestClassifier\", \"ExtraTreesClassifier\", \"DecisionTreeClassifier\", \"KNeighborsClassifier\", \"GaussianNB\", \"LogisticRegression\", \"SVC\", \"xgboost\"], \"y\": [1.746208, 15.586454, 0.34422, 0.296937, 0.045327, 0.160842, 0.054616, 1.748592, 2.278144, 7.111357], \"type\": \"bar\", \"uid\": \"4934496f-dcca-4c1f-85a6-b03851361063\"}], {\"title\": {\"text\": \"Tempo para treinamento dos Algoritmos de Classifica\\u00e7\\u00e3o\"}, \"yaxis\": {\"title\": {\"text\": \"segundos\"}}}, {\"showLink\": false, \"linkText\": \"Export to plot.ly\", \"plotlyServerURL\": \"https://plot.ly\"}); \n",
       "}\n",
       "});</script><script type=\"text/javascript\">window.addEventListener(\"resize\", function(){if (document.getElementById(\"f3bcb123-f3d9-45ef-b471-5f2071218e88\")) {window._Plotly.Plots.resize(document.getElementById(\"f3bcb123-f3d9-45ef-b471-5f2071218e88\"));};})</script>"
      ]
     },
     "metadata": {},
     "output_type": "display_data"
    }
   ],
   "source": [
    "#Plota um gráfico de Comparação dos Tempo de treinamentodos Algoritmos de Classificação\n",
    "cores = ['rgb(31, 119, 180)',\n",
    " 'rgb(255, 127, 14)',\n",
    " 'rgb(44, 160, 44)',\n",
    " 'rgb(214, 39, 40)',\n",
    " 'rgb(148, 103, 189)',\n",
    " 'rgb(140, 86, 75)',\n",
    " 'rgb(227, 119, 194)',\n",
    " 'rgb(127, 127, 127)',\n",
    " 'rgb(188, 189, 34)',\n",
    " 'rgb(23, 190, 207)']\n",
    "\n",
    "trace0= go.Bar(y=tempo_treinamento_modelos, x=nomes_modelos, textposition = 'auto', text=tempo_treinamento_modelos,  marker=dict(color=cores),opacity=0.7  )\n",
    "data=[trace0]\n",
    "\n",
    "layout = go.Layout(yaxis=dict(title='segundos') ,title='Tempo para treinamento dos Algoritmos de Classificação')\n",
    "fig = go.Figure(data=data, layout=layout )\n",
    "py.iplot(fig )\n"
   ]
  },
  {
   "cell_type": "markdown",
   "metadata": {},
   "source": [
    "# Escolhendo um Modelo de Previsão"
   ]
  },
  {
   "cell_type": "code",
   "execution_count": 32,
   "metadata": {},
   "outputs": [],
   "source": [
    "# O algoritmo de classificação que obteve o melhor resultado, apesar do maior tempo para treinamento, foi o GradientBoostingClassifier. Vamos selecionar ele.\n",
    "# Criando o Modelo\n",
    "classificador = GradientBoostingClassifier(n_estimators=200)"
   ]
  },
  {
   "cell_type": "code",
   "execution_count": 33,
   "metadata": {},
   "outputs": [],
   "source": [
    "# Separando os dados de Treinamento e Teste\n",
    "from sklearn.model_selection import train_test_split\n",
    "\n",
    "X_treinamento, X_teste, y_treinamento, y_teste = train_test_split(X_p, y_le, test_size = 0.3)"
   ]
  },
  {
   "cell_type": "code",
   "execution_count": 34,
   "metadata": {},
   "outputs": [
    {
     "name": "stdout",
     "output_type": "stream",
     "text": [
      "Shape dos dados de Treinamento\n",
      "(1209, 21)\n",
      "(1209,)\n"
     ]
    }
   ],
   "source": [
    "print('Shape dos dados de Treinamento')\n",
    "print(X_treinamento.shape)\n",
    "print(y_treinamento.shape)"
   ]
  },
  {
   "cell_type": "code",
   "execution_count": 35,
   "metadata": {},
   "outputs": [
    {
     "name": "stdout",
     "output_type": "stream",
     "text": [
      "Shape dos dados de Teste\n",
      "(519, 21)\n",
      "(519,)\n"
     ]
    }
   ],
   "source": [
    "print('Shape dos dados de Teste')\n",
    "print(X_teste.shape)\n",
    "print(y_teste.shape)"
   ]
  },
  {
   "cell_type": "code",
   "execution_count": 36,
   "metadata": {},
   "outputs": [],
   "source": [
    "# Treinando o modelo selecionado\n",
    "classificador.fit(X_treinamento, y_treinamento);"
   ]
  },
  {
   "cell_type": "code",
   "execution_count": 37,
   "metadata": {},
   "outputs": [],
   "source": [
    "# Realiza a previsão com os dados de Teste\n",
    "y_previsto = classificador.predict(X_teste)"
   ]
  },
  {
   "cell_type": "code",
   "execution_count": 38,
   "metadata": {},
   "outputs": [],
   "source": [
    "# Identificando o nome da classe de acordo com a codificação\n",
    "#acc = 0  #good = 1 #unacc = 2 #vgood = 3\n",
    "nome_classe = ['acc', 'good', 'unacc', 'vgood']"
   ]
  },
  {
   "cell_type": "code",
   "execution_count": 39,
   "metadata": {},
   "outputs": [
    {
     "name": "stdout",
     "output_type": "stream",
     "text": [
      "\tRelatório de Classificação do modelo\n",
      "              precision    recall  f1-score   support\n",
      "\n",
      "         acc     0.9521    0.9929    0.9720       140\n",
      "        good     1.0000    0.8462    0.9167        13\n",
      "       unacc     0.9970    0.9853    0.9912       341\n",
      "       vgood     1.0000    1.0000    1.0000        25\n",
      "\n",
      "   micro avg     0.9846    0.9846    0.9846       519\n",
      "   macro avg     0.9873    0.9561    0.9700       519\n",
      "weighted avg     0.9851    0.9846    0.9846       519\n",
      "\n"
     ]
    }
   ],
   "source": [
    "# Relatório de Classificação\n",
    "#precision -  daqueles que classifiquei como corretos, quantos efetivamente estavam corretos? \n",
    "#recall    -  quando realmente é da classe XPTO, o quão frequente você classifica como XPTO?\n",
    "#f1-score  -  balanço entre a precisão e o recall. Combina precisão e recall em um número único que indique a qualidade geral do seu modelo (quanto maior melhor o modelo).\n",
    "#support   -  número de ocorrência de cada classe.\n",
    "\n",
    "from sklearn.metrics import classification_report\n",
    "relatorio_classificacao = classification_report(y_teste, y_previsto, target_names=nome_classe ,digits=4)\n",
    "\n",
    "# Imprimindo o relatório\n",
    "print('\\tRelatório de Classificação do modelo')\n",
    "print(relatorio_classificacao)"
   ]
  },
  {
   "cell_type": "code",
   "execution_count": 40,
   "metadata": {},
   "outputs": [
    {
     "name": "stdout",
     "output_type": "stream",
     "text": [
      "Obs.: Nas linhas temos as Classes reais e nas colunas as Classes previstas.\n",
      "\n",
      "\tMatriz de Confusão\n"
     ]
    },
    {
     "data": {
      "text/html": [
       "<div>\n",
       "<style scoped>\n",
       "    .dataframe tbody tr th:only-of-type {\n",
       "        vertical-align: middle;\n",
       "    }\n",
       "\n",
       "    .dataframe tbody tr th {\n",
       "        vertical-align: top;\n",
       "    }\n",
       "\n",
       "    .dataframe thead th {\n",
       "        text-align: right;\n",
       "    }\n",
       "</style>\n",
       "<table border=\"1\" class=\"dataframe\">\n",
       "  <thead>\n",
       "    <tr style=\"text-align: right;\">\n",
       "      <th></th>\n",
       "      <th>acc</th>\n",
       "      <th>good</th>\n",
       "      <th>unacc</th>\n",
       "      <th>vgood</th>\n",
       "    </tr>\n",
       "  </thead>\n",
       "  <tbody>\n",
       "    <tr>\n",
       "      <th>acc</th>\n",
       "      <td>139</td>\n",
       "      <td>0</td>\n",
       "      <td>1</td>\n",
       "      <td>0</td>\n",
       "    </tr>\n",
       "    <tr>\n",
       "      <th>good</th>\n",
       "      <td>2</td>\n",
       "      <td>11</td>\n",
       "      <td>0</td>\n",
       "      <td>0</td>\n",
       "    </tr>\n",
       "    <tr>\n",
       "      <th>unacc</th>\n",
       "      <td>5</td>\n",
       "      <td>0</td>\n",
       "      <td>336</td>\n",
       "      <td>0</td>\n",
       "    </tr>\n",
       "    <tr>\n",
       "      <th>vgood</th>\n",
       "      <td>0</td>\n",
       "      <td>0</td>\n",
       "      <td>0</td>\n",
       "      <td>25</td>\n",
       "    </tr>\n",
       "  </tbody>\n",
       "</table>\n",
       "</div>"
      ],
      "text/plain": [
       "       acc  good  unacc  vgood\n",
       "acc    139     0      1      0\n",
       "good     2    11      0      0\n",
       "unacc    5     0    336      0\n",
       "vgood    0     0      0     25"
      ]
     },
     "execution_count": 40,
     "metadata": {},
     "output_type": "execute_result"
    }
   ],
   "source": [
    "# Visualizar a Matriz de confusão (confusion matrix)\n",
    "from sklearn.metrics import confusion_matrix\n",
    "cm = confusion_matrix(y_teste, y_previsto) \n",
    "\n",
    "df_cm = pd.DataFrame(cm, nome_classe,  nome_classe)\n",
    "\n",
    "print('Obs.: Nas linhas temos as Classes reais e nas colunas as Classes previstas.\\n')\n",
    "print('\\tMatriz de Confusão')\n",
    "df_cm"
   ]
  },
  {
   "cell_type": "code",
   "execution_count": null,
   "metadata": {},
   "outputs": [],
   "source": []
  },
  {
   "cell_type": "markdown",
   "metadata": {},
   "source": [
    "# Exibindo os dados de Teste após a Previsão"
   ]
  },
  {
   "cell_type": "code",
   "execution_count": 41,
   "metadata": {},
   "outputs": [
    {
     "data": {
      "text/plain": [
       "(519, 21)"
      ]
     },
     "execution_count": 41,
     "metadata": {},
     "output_type": "execute_result"
    }
   ],
   "source": [
    "# Reverte a alteração da escala feita anteriormente\n",
    "X_teste_scale = scale_x.inverse_transform(X_teste)\n",
    "X_teste_scale.shape"
   ]
  },
  {
   "cell_type": "code",
   "execution_count": 42,
   "metadata": {},
   "outputs": [
    {
     "data": {
      "text/plain": [
       "(519, 6)"
      ]
     },
     "execution_count": 42,
     "metadata": {},
     "output_type": "execute_result"
    }
   ],
   "source": [
    "# Reverte a alteração do onehot feita anteriormente\n",
    "X_teste_oh = x_oneHot.inverse_transform(X_teste_scale)\n",
    "X_teste_oh.shape"
   ]
  },
  {
   "cell_type": "code",
   "execution_count": 43,
   "metadata": {},
   "outputs": [
    {
     "data": {
      "text/plain": [
       "(3114,)"
      ]
     },
     "execution_count": 43,
     "metadata": {},
     "output_type": "execute_result"
    }
   ],
   "source": [
    "# Reverte a transformação para os valores originais feitas pelo Label Encoder feita anteriormente\n",
    "X_teste_le = x_label_encoder.inverse_transform(X_teste_oh.ravel())\n",
    "X_teste_le.shape"
   ]
  },
  {
   "cell_type": "code",
   "execution_count": 44,
   "metadata": {},
   "outputs": [
    {
     "data": {
      "text/plain": [
       "(519, 6)"
      ]
     },
     "execution_count": 44,
     "metadata": {},
     "output_type": "execute_result"
    }
   ],
   "source": [
    "X_teste_le = X_teste_le.reshape(X_teste_oh.shape)\n",
    "X_teste_le.shape"
   ]
  },
  {
   "cell_type": "code",
   "execution_count": 45,
   "metadata": {},
   "outputs": [],
   "source": [
    "df_previsores = pd.DataFrame(X_teste_le, columns=['BUYING', 'MAINT', 'DOORS', 'PERSONS' , 'LUG_BOOT', 'SAFETY'])\n",
    "#df_previsores.head()"
   ]
  },
  {
   "cell_type": "code",
   "execution_count": 46,
   "metadata": {},
   "outputs": [],
   "source": [
    "# Reverte a transformação para os valores originais feitas pelo Label Encoder feita anteriormente\n",
    "y_previsto_it = y_label_encoder.inverse_transform(y_previsto.ravel())"
   ]
  },
  {
   "cell_type": "code",
   "execution_count": 47,
   "metadata": {},
   "outputs": [],
   "source": [
    "# Reverte a transformação para os valores originais feitas pelo Label Encoder feita anteriormente\n",
    "y_teste_it = y_label_encoder.inverse_transform(y_teste.ravel())"
   ]
  },
  {
   "cell_type": "code",
   "execution_count": 48,
   "metadata": {},
   "outputs": [],
   "source": [
    "# Dataframe com a classe Real\n",
    "df_prev = pd.DataFrame(y_previsto_it, columns=['CLASSE_PREVISTA'])\n",
    "\n",
    "# Dataframe com a classe Prevista\n",
    "df_real = pd.DataFrame(y_teste_it, columns=['CLASSE_REAL'])\n",
    "\n",
    "# Juntando os dois dataframes\n",
    "df_target = pd.merge(df_real, df_prev, right_index=True, left_index=True)\n",
    "df_target['CLASSE_PREVISTA_CORRETAMENTE'] = df_target.CLASSE_PREVISTA == df_target.CLASSE_REAL\n"
   ]
  },
  {
   "cell_type": "code",
   "execution_count": 49,
   "metadata": {},
   "outputs": [],
   "source": [
    "# Agora juntando os dataframes de previsores e target\n",
    "df_merge = pd.merge(df_previsores, df_target, right_index=True, left_index=True)"
   ]
  },
  {
   "cell_type": "code",
   "execution_count": 50,
   "metadata": {},
   "outputs": [
    {
     "data": {
      "text/html": [
       "<div>\n",
       "<style scoped>\n",
       "    .dataframe tbody tr th:only-of-type {\n",
       "        vertical-align: middle;\n",
       "    }\n",
       "\n",
       "    .dataframe tbody tr th {\n",
       "        vertical-align: top;\n",
       "    }\n",
       "\n",
       "    .dataframe thead th {\n",
       "        text-align: right;\n",
       "    }\n",
       "</style>\n",
       "<table border=\"1\" class=\"dataframe\">\n",
       "  <thead>\n",
       "    <tr style=\"text-align: right;\">\n",
       "      <th></th>\n",
       "      <th>BUYING</th>\n",
       "      <th>MAINT</th>\n",
       "      <th>DOORS</th>\n",
       "      <th>PERSONS</th>\n",
       "      <th>LUG_BOOT</th>\n",
       "      <th>SAFETY</th>\n",
       "      <th>CLASSE_REAL</th>\n",
       "      <th>CLASSE_PREVISTA</th>\n",
       "      <th>CLASSE_PREVISTA_CORRETAMENTE</th>\n",
       "    </tr>\n",
       "  </thead>\n",
       "  <tbody>\n",
       "    <tr>\n",
       "      <th>22</th>\n",
       "      <td>med</td>\n",
       "      <td>high</td>\n",
       "      <td>2</td>\n",
       "      <td>more</td>\n",
       "      <td>med</td>\n",
       "      <td>med</td>\n",
       "      <td>unacc</td>\n",
       "      <td>acc</td>\n",
       "      <td>False</td>\n",
       "    </tr>\n",
       "    <tr>\n",
       "      <th>76</th>\n",
       "      <td>low</td>\n",
       "      <td>med</td>\n",
       "      <td>3</td>\n",
       "      <td>more</td>\n",
       "      <td>med</td>\n",
       "      <td>med</td>\n",
       "      <td>good</td>\n",
       "      <td>acc</td>\n",
       "      <td>False</td>\n",
       "    </tr>\n",
       "    <tr>\n",
       "      <th>77</th>\n",
       "      <td>med</td>\n",
       "      <td>low</td>\n",
       "      <td>4</td>\n",
       "      <td>4</td>\n",
       "      <td>small</td>\n",
       "      <td>med</td>\n",
       "      <td>acc</td>\n",
       "      <td>unacc</td>\n",
       "      <td>False</td>\n",
       "    </tr>\n",
       "    <tr>\n",
       "      <th>143</th>\n",
       "      <td>med</td>\n",
       "      <td>high</td>\n",
       "      <td>2</td>\n",
       "      <td>4</td>\n",
       "      <td>med</td>\n",
       "      <td>med</td>\n",
       "      <td>unacc</td>\n",
       "      <td>acc</td>\n",
       "      <td>False</td>\n",
       "    </tr>\n",
       "    <tr>\n",
       "      <th>204</th>\n",
       "      <td>med</td>\n",
       "      <td>low</td>\n",
       "      <td>3</td>\n",
       "      <td>more</td>\n",
       "      <td>med</td>\n",
       "      <td>med</td>\n",
       "      <td>good</td>\n",
       "      <td>acc</td>\n",
       "      <td>False</td>\n",
       "    </tr>\n",
       "    <tr>\n",
       "      <th>236</th>\n",
       "      <td>vhigh</td>\n",
       "      <td>med</td>\n",
       "      <td>3</td>\n",
       "      <td>4</td>\n",
       "      <td>med</td>\n",
       "      <td>med</td>\n",
       "      <td>unacc</td>\n",
       "      <td>acc</td>\n",
       "      <td>False</td>\n",
       "    </tr>\n",
       "    <tr>\n",
       "      <th>476</th>\n",
       "      <td>med</td>\n",
       "      <td>high</td>\n",
       "      <td>3</td>\n",
       "      <td>4</td>\n",
       "      <td>med</td>\n",
       "      <td>med</td>\n",
       "      <td>unacc</td>\n",
       "      <td>acc</td>\n",
       "      <td>False</td>\n",
       "    </tr>\n",
       "    <tr>\n",
       "      <th>491</th>\n",
       "      <td>vhigh</td>\n",
       "      <td>low</td>\n",
       "      <td>3</td>\n",
       "      <td>4</td>\n",
       "      <td>med</td>\n",
       "      <td>med</td>\n",
       "      <td>unacc</td>\n",
       "      <td>acc</td>\n",
       "      <td>False</td>\n",
       "    </tr>\n",
       "  </tbody>\n",
       "</table>\n",
       "</div>"
      ],
      "text/plain": [
       "    BUYING MAINT DOORS PERSONS LUG_BOOT SAFETY CLASSE_REAL CLASSE_PREVISTA  \\\n",
       "22     med  high     2    more      med    med       unacc             acc   \n",
       "76     low   med     3    more      med    med        good             acc   \n",
       "77     med   low     4       4    small    med         acc           unacc   \n",
       "143    med  high     2       4      med    med       unacc             acc   \n",
       "204    med   low     3    more      med    med        good             acc   \n",
       "236  vhigh   med     3       4      med    med       unacc             acc   \n",
       "476    med  high     3       4      med    med       unacc             acc   \n",
       "491  vhigh   low     3       4      med    med       unacc             acc   \n",
       "\n",
       "     CLASSE_PREVISTA_CORRETAMENTE  \n",
       "22                          False  \n",
       "76                          False  \n",
       "77                          False  \n",
       "143                         False  \n",
       "204                         False  \n",
       "236                         False  \n",
       "476                         False  \n",
       "491                         False  "
      ]
     },
     "execution_count": 50,
     "metadata": {},
     "output_type": "execute_result"
    }
   ],
   "source": [
    "# Exibindo somente os registros onde houve erro na previsão da classe.\n",
    "df_merge[df_merge.CLASSE_PREVISTA_CORRETAMENTE==False]"
   ]
  },
  {
   "cell_type": "code",
   "execution_count": 51,
   "metadata": {},
   "outputs": [
    {
     "data": {
      "text/html": [
       "<div>\n",
       "<style scoped>\n",
       "    .dataframe tbody tr th:only-of-type {\n",
       "        vertical-align: middle;\n",
       "    }\n",
       "\n",
       "    .dataframe tbody tr th {\n",
       "        vertical-align: top;\n",
       "    }\n",
       "\n",
       "    .dataframe thead th {\n",
       "        text-align: right;\n",
       "    }\n",
       "</style>\n",
       "<table border=\"1\" class=\"dataframe\">\n",
       "  <thead>\n",
       "    <tr style=\"text-align: right;\">\n",
       "      <th></th>\n",
       "      <th>BUYING</th>\n",
       "      <th>MAINT</th>\n",
       "      <th>DOORS</th>\n",
       "      <th>PERSONS</th>\n",
       "      <th>LUG_BOOT</th>\n",
       "      <th>SAFETY</th>\n",
       "      <th>CLASSE_REAL</th>\n",
       "      <th>CLASSE_PREVISTA</th>\n",
       "    </tr>\n",
       "    <tr>\n",
       "      <th>CLASSE_PREVISTA_CORRETAMENTE</th>\n",
       "      <th></th>\n",
       "      <th></th>\n",
       "      <th></th>\n",
       "      <th></th>\n",
       "      <th></th>\n",
       "      <th></th>\n",
       "      <th></th>\n",
       "      <th></th>\n",
       "    </tr>\n",
       "  </thead>\n",
       "  <tbody>\n",
       "    <tr>\n",
       "      <th>False</th>\n",
       "      <td>8</td>\n",
       "      <td>8</td>\n",
       "      <td>8</td>\n",
       "      <td>8</td>\n",
       "      <td>8</td>\n",
       "      <td>8</td>\n",
       "      <td>8</td>\n",
       "      <td>8</td>\n",
       "    </tr>\n",
       "    <tr>\n",
       "      <th>True</th>\n",
       "      <td>511</td>\n",
       "      <td>511</td>\n",
       "      <td>511</td>\n",
       "      <td>511</td>\n",
       "      <td>511</td>\n",
       "      <td>511</td>\n",
       "      <td>511</td>\n",
       "      <td>511</td>\n",
       "    </tr>\n",
       "  </tbody>\n",
       "</table>\n",
       "</div>"
      ],
      "text/plain": [
       "                              BUYING  MAINT  DOORS  PERSONS  LUG_BOOT  SAFETY  \\\n",
       "CLASSE_PREVISTA_CORRETAMENTE                                                    \n",
       "False                              8      8      8        8         8       8   \n",
       "True                             511    511    511      511       511     511   \n",
       "\n",
       "                              CLASSE_REAL  CLASSE_PREVISTA  \n",
       "CLASSE_PREVISTA_CORRETAMENTE                                \n",
       "False                                   8                8  \n",
       "True                                  511              511  "
      ]
     },
     "execution_count": 51,
     "metadata": {},
     "output_type": "execute_result"
    }
   ],
   "source": [
    "# Exibindo a quantidade.\n",
    "df_merge.groupby(['CLASSE_PREVISTA_CORRETAMENTE']).count()"
   ]
  },
  {
   "cell_type": "code",
   "execution_count": null,
   "metadata": {},
   "outputs": [],
   "source": []
  }
 ],
 "metadata": {
  "kernelspec": {
   "display_name": "Python 3",
   "language": "python",
   "name": "python3"
  },
  "language_info": {
   "codemirror_mode": {
    "name": "ipython",
    "version": 3
   },
   "file_extension": ".py",
   "mimetype": "text/x-python",
   "name": "python",
   "nbconvert_exporter": "python",
   "pygments_lexer": "ipython3",
   "version": "3.6.8"
  }
 },
 "nbformat": 4,
 "nbformat_minor": 2
}
